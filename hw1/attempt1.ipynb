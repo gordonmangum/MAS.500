{
 "cells": [
  {
   "cell_type": "code",
   "execution_count": 14,
   "metadata": {
    "collapsed": false
   },
   "outputs": [
    {
     "name": "stderr",
     "output_type": "stream",
     "text": [
      "WARNING:root:Starting query...\n"
     ]
    },
    {
     "name": "stdout",
     "output_type": "stream",
     "text": [
      "Bees were mentioned more times in 2013\n",
      "13577 mentions in 2014, 16941 mentions in 2013\n"
     ]
    }
   ],
   "source": [
    "import mediacloud, json, datetime, ConfigParser, os, logging\n",
    "\n",
    "#basedir = os.path.dirname(os.path.realpath('__file__'))\n",
    "\n",
    "#set up logging\n",
    "logging.basicConfig(level=logging.INFO)\n",
    "#logger = logging.getLogger(__name__)\n",
    "#logging.basicConfig(filename='example.log',level=logging.DEBUG)\n",
    "#log_file_path = os.path.join(basedir,'logs','mcserver.log')\n",
    "log_file_path = 'gmexample.log'\n",
    "logging.basicConfig(filename=log_file_path,level=logging.DEBUG)\n",
    "#logging.debug('This debug message should go to the log file')\n",
    "#logging.info('So should this info')\n",
    "#logging.warning('And this warning, too')\n",
    "#logging.warning('Start query...')\n",
    "\n",
    "config = ConfigParser.ConfigParser()\n",
    "config.read('settings.config')\n",
    "\n",
    "#my_api_key = config.get('mediacloud', 'my_api')\n",
    "mc = mediacloud.api.MediaCloud('136e9fa634cc38b17a3e51b9095c2b3ee1e5045de77ece72f3de4e58df810543')\n",
    "\n",
    "def mcQuery():\n",
    "    logging.warning('Starting query...')\n",
    "    bees_2013 = mc.sentenceCount('( bee OR bees)', solr_filter=[mc.publish_date_query( datetime.date( 2013, 1, 1), datetime.date( 2014, 1, 1) ), 'media_sets_id:1' ])\n",
    "    bees_2014 = mc.sentenceCount('( bee OR bees)', solr_filter=[mc.publish_date_query( datetime.date( 2014, 1, 1), datetime.date( 2015, 1, 1) ), 'media_sets_id:1' ])\n",
    "    year_with_more_mentions = '2014' if bees_2014['count'] > bees_2013['count'] else '2013'\n",
    "    print \"Bees were mentioned more times in %s\" % year_with_more_mentions\n",
    "    print \"%d mentions in 2014, %d mentions in 2013\"% (bees_2014['count'],bees_2013['count'])\n",
    "\n",
    "mcQuery()"
   ]
  },
  {
   "cell_type": "code",
   "execution_count": null,
   "metadata": {
    "collapsed": false
   },
   "outputs": [],
   "source": [
    "import test\n",
    "err()"
   ]
  },
  {
   "cell_type": "code",
   "execution_count": null,
   "metadata": {
    "collapsed": false
   },
   "outputs": [],
   "source": [
    "logging.info()"
   ]
  },
  {
   "cell_type": "code",
   "execution_count": 16,
   "metadata": {
    "collapsed": false
   },
   "outputs": [
    {
     "ename": "SyntaxError",
     "evalue": "invalid syntax (test.py, line 5)",
     "output_type": "error",
     "traceback": [
      "\u001b[0;36m  File \u001b[0;32m\"test.py\"\u001b[0;36m, line \u001b[0;32m5\u001b[0m\n\u001b[0;31m    if output.mcQuery == 'Bees were mentioned more times in 2013'\u001b[0m\n\u001b[0m                                                                 ^\u001b[0m\n\u001b[0;31mSyntaxError\u001b[0m\u001b[0;31m:\u001b[0m invalid syntax\n"
     ]
    }
   ],
   "source": [
    "from test import err\n",
    "err()"
   ]
  },
  {
   "cell_type": "code",
   "execution_count": null,
   "metadata": {
    "collapsed": false
   },
   "outputs": [],
   "source": [
    "from hw2 import mcQuery\n",
    "mcQuery()"
   ]
  },
  {
   "cell_type": "code",
   "execution_count": null,
   "metadata": {
    "collapsed": true
   },
   "outputs": [],
   "source": []
  }
 ],
 "metadata": {
  "kernelspec": {
   "display_name": "Python 2",
   "language": "python",
   "name": "python2"
  },
  "language_info": {
   "codemirror_mode": {
    "name": "ipython",
    "version": 2
   },
   "file_extension": ".py",
   "mimetype": "text/x-python",
   "name": "python",
   "nbconvert_exporter": "python",
   "pygments_lexer": "ipython2",
   "version": "2.7.10"
  }
 },
 "nbformat": 4,
 "nbformat_minor": 0
}
